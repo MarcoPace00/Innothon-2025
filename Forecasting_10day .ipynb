{
 "cells": [
  {
   "cell_type": "markdown",
   "id": "0b986efd",
   "metadata": {},
   "source": [
    "# Load data"
   ]
  },
  {
   "cell_type": "code",
   "execution_count": 21,
   "id": "36d5458e",
   "metadata": {},
   "outputs": [],
   "source": [
    "import pandas as pd\n",
    "\n",
    "df_dataset = pd.read_csv(\"preprocessed_dataset.csv\",index_col=0).drop(columns=[\"1d_pct_price_var\",\"5d_pct_price_var\"])"
   ]
  },
  {
   "cell_type": "markdown",
   "id": "0dee6f15",
   "metadata": {},
   "source": [
    "# Train - test separation"
   ]
  },
  {
   "cell_type": "code",
   "execution_count": 22,
   "id": "ea764db7",
   "metadata": {},
   "outputs": [],
   "source": [
    "df_train = df_dataset.iloc[:-900]\n",
    "df_test = df_dataset.iloc[-900:]\n",
    "\n",
    "x_train = df_train.drop(columns=[\"10d_pct_price_var\",\"observation_date\"])\n",
    "y_train = df_train[\"10d_pct_price_var\"]\n",
    "x_test = df_test.drop(columns=[\"10d_pct_price_var\",\"observation_date\"])\n",
    "y_test = df_test[\"10d_pct_price_var\"]"
   ]
  },
  {
   "cell_type": "markdown",
   "id": "30bdba25",
   "metadata": {},
   "source": [
    "# Model Hyperparameters Selection "
   ]
  },
  {
   "cell_type": "code",
   "execution_count": 23,
   "id": "25a00ff1",
   "metadata": {},
   "outputs": [
    {
     "name": "stdout",
     "output_type": "stream",
     "text": [
      "Fitting 4 folds for each of 720 candidates, totalling 2880 fits\n",
      "LGBM\n",
      "Best score: -0.022985099737245274\n",
      "Best parameters: {'lambda_l2': 0, 'learning_rate': 0.05, 'max_depth': 5, 'min_child_samples': 100, 'n_estimators': 5}\n"
     ]
    }
   ],
   "source": [
    "# !pip install lightgbm\n",
    "from lightgbm import LGBMRegressor\n",
    "from sklearn.model_selection import GridSearchCV\n",
    "import warnings\n",
    "warnings.filterwarnings('ignore', category=FutureWarning)\n",
    "\n",
    "\n",
    "estimator = LGBMRegressor(verbose=-1)\n",
    "param_grid = {\n",
    "    # \"n_estimators\": [5, 10, 50,100,500],\n",
    "    \"n_estimators\": [5,100,500],\n",
    "    \"max_depth\": [-1,5,10],\n",
    "    # \"min_child_samples\": [5, 10, 20, 50], \n",
    "    \"min_child_samples\": [30,40,50,100,500], \n",
    "    \"learning_rate\": [0.01, 0.02,0.05,0.2],\n",
    "    \"lambda_l2\":[0, 1, 2, 3]\n",
    "}\n",
    "\n",
    "grid_search = GridSearchCV(\n",
    "    estimator=estimator,\n",
    "    param_grid=param_grid,\n",
    "    scoring='r2',\n",
    "    cv=4,\n",
    "    verbose=1\n",
    ")\n",
    "\n",
    "grid_search.fit(x_train, y_train)\n",
    "\n",
    "print(\"LGBM\")\n",
    "print(\"Best score:\", grid_search.best_score_)\n",
    "print(\"Best parameters:\", grid_search.best_params_)\n"
   ]
  },
  {
   "cell_type": "code",
   "execution_count": 24,
   "id": "ba008f20",
   "metadata": {},
   "outputs": [
    {
     "data": {
      "text/plain": [
       "-0.028405905155195033"
      ]
     },
     "execution_count": 24,
     "metadata": {},
     "output_type": "execute_result"
    }
   ],
   "source": [
    "grid_search.score(x_test,y_test)"
   ]
  },
  {
   "cell_type": "code",
   "execution_count": 27,
   "id": "83742de4",
   "metadata": {},
   "outputs": [
    {
     "name": "stdout",
     "output_type": "stream",
     "text": [
      "Train dataset performance:  0.6333333333333333\n",
      "Test dataset performance:  0.5855555555555556\n"
     ]
    }
   ],
   "source": [
    "import numpy as np\n",
    "\n",
    "def sign_accuracy(y_true, y_pred):\n",
    "    return np.mean(np.sign(y_true) == np.sign(y_pred))\n",
    "\n",
    "train_sign_accuracy = sign_accuracy(y_train,grid_search.predict(x_train))\n",
    "test_sign_accuracy = sign_accuracy(y_test,grid_search.predict(x_test))\n",
    "print(\"Train dataset performance: \",train_sign_accuracy)\n",
    "print(\"Test dataset performance: \",test_sign_accuracy)"
   ]
  },
  {
   "cell_type": "code",
   "execution_count": 26,
   "id": "554d94c3",
   "metadata": {},
   "outputs": [
    {
     "name": "stdout",
     "output_type": "stream",
     "text": [
      "Sign Accuracy: 58.56%\n",
      "P-value: 0.00000\n"
     ]
    },
    {
     "name": "stderr",
     "output_type": "stream",
     "text": [
      "C:\\Users\\volpe\\AppData\\Local\\Temp\\ipykernel_8596\\65839734.py:8: DeprecationWarning: 'binom_test' is deprecated in favour of 'binomtest' from version 1.7.0 and will be removed in Scipy 1.12.0.\n",
      "  p_value = binom_test(n_correct, n_total, p=0.5, alternative='greater')\n"
     ]
    }
   ],
   "source": [
    "from scipy.stats import binom_test\n",
    "\n",
    "# Example inputs\n",
    "n_total = 900        # Total number of samples (adjust to your case)\n",
    "n_correct = int(test_sign_accuracy * n_total)  # Number of correct sign predictions (52% of total)\n",
    "\n",
    "# Perform one-sided binomial test (greater than 50%)\n",
    "p_value = binom_test(n_correct, n_total, p=0.5, alternative='greater')\n",
    "\n",
    "print(f\"Sign Accuracy: {n_correct / n_total:.2%}\")\n",
    "print(f\"P-value: {p_value:.5f}\")"
   ]
  }
 ],
 "metadata": {
  "kernelspec": {
   "display_name": "Python 3",
   "language": "python",
   "name": "python3"
  },
  "language_info": {
   "codemirror_mode": {
    "name": "ipython",
    "version": 3
   },
   "file_extension": ".py",
   "mimetype": "text/x-python",
   "name": "python",
   "nbconvert_exporter": "python",
   "pygments_lexer": "ipython3",
   "version": "3.11.6"
  }
 },
 "nbformat": 4,
 "nbformat_minor": 5
}
