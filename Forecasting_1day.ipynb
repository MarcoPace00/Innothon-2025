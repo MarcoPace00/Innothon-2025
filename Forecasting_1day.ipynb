{
 "cells": [
  {
   "cell_type": "markdown",
   "id": "0b986efd",
   "metadata": {},
   "source": [
    "# Load data"
   ]
  },
  {
   "cell_type": "code",
   "execution_count": 1,
   "id": "36d5458e",
   "metadata": {},
   "outputs": [],
   "source": [
    "import pandas as pd\n",
    "\n",
    "df_dataset = pd.read_csv(\"preprocessed_dataset.csv\",index_col=0).drop(columns=[\"5d_pct_price_var\",\"10d_pct_price_var\"])"
   ]
  },
  {
   "cell_type": "markdown",
   "id": "0dee6f15",
   "metadata": {},
   "source": [
    "# Train - test separation"
   ]
  },
  {
   "cell_type": "code",
   "execution_count": 2,
   "id": "ea764db7",
   "metadata": {},
   "outputs": [],
   "source": [
    "df_train = df_dataset.iloc[:-900]\n",
    "df_test = df_dataset.iloc[-900:]\n",
    "\n",
    "x_train = df_train.drop(columns=[\"1d_pct_price_var\",\"observation_date\"])\n",
    "y_train = df_train[\"1d_pct_price_var\"]\n",
    "x_test = df_test.drop(columns=[\"1d_pct_price_var\",\"observation_date\"])\n",
    "y_test = df_test[\"1d_pct_price_var\"]"
   ]
  },
  {
   "cell_type": "markdown",
   "id": "30bdba25",
   "metadata": {},
   "source": [
    "# Model Hyperparameters Selection (sul mio pc ci mette 10 minuti)"
   ]
  },
  {
   "cell_type": "code",
   "execution_count": 3,
   "id": "25a00ff1",
   "metadata": {},
   "outputs": [
    {
     "name": "stdout",
     "output_type": "stream",
     "text": [
      "Fitting 4 folds for each of 648 candidates, totalling 2592 fits\n",
      "LGBM\n",
      "Best score: -0.0014535073539879984\n",
      "Best parameters: {'lambda_l2': 10, 'learning_rate': 0.05, 'max_depth': 10, 'min_child_samples': 50, 'n_estimators': 5}\n"
     ]
    }
   ],
   "source": [
    "# !pip install lightgbm\n",
    "from lightgbm import LGBMRegressor\n",
    "from sklearn.model_selection import GridSearchCV\n",
    "import warnings\n",
    "warnings.filterwarnings('ignore', category=FutureWarning)\n",
    "\n",
    "\n",
    "estimator = LGBMRegressor(verbose=-1)\n",
    "param_grid = {\n",
    "    # \"n_estimators\": [5, 10, 50,100,500],\n",
    "    \"n_estimators\": [5,100,500],\n",
    "    \"max_depth\": [5,7,10],\n",
    "    # \"min_child_samples\": [5, 10, 20, 50], \n",
    "    \"min_child_samples\": [40, 50, 100], \n",
    "    \"learning_rate\": [0.01, 0.02,0.05,0.2],\n",
    "    \"lambda_l2\":[0, 1, 2, 3, 5, 10]\n",
    "}\n",
    "\n",
    "grid_search = GridSearchCV(\n",
    "    estimator=estimator,\n",
    "    param_grid=param_grid,\n",
    "    scoring='r2',\n",
    "    # scoring='neg_mean_squared_error',\n",
    "    cv=4,\n",
    "    verbose=1\n",
    ")\n",
    "\n",
    "grid_search.fit(x_train, y_train)\n",
    "\n",
    "print(\"LGBM\")\n",
    "print(\"Best score:\", grid_search.best_score_)\n",
    "print(\"Best parameters:\", grid_search.best_params_)\n"
   ]
  },
  {
   "cell_type": "code",
   "execution_count": 9,
   "id": "ba008f20",
   "metadata": {},
   "outputs": [
    {
     "data": {
      "text/plain": [
       "-0.00930950219782245"
      ]
     },
     "execution_count": 9,
     "metadata": {},
     "output_type": "execute_result"
    }
   ],
   "source": [
    "grid_search.score(x_test,y_test)"
   ]
  },
  {
   "cell_type": "code",
   "execution_count": 10,
   "id": "add94b8d",
   "metadata": {},
   "outputs": [
    {
     "name": "stdout",
     "output_type": "stream",
     "text": [
      "Train dataset performance:  0.6345833333333334\n",
      "Test dataset performance:  0.49666666666666665\n"
     ]
    }
   ],
   "source": [
    "import numpy as np\n",
    "\n",
    "def sign_accuracy(y_true, y_pred):\n",
    "    return np.mean(np.sign(y_true) == np.sign(y_pred))\n",
    "\n",
    "train_sign_accuracy = sign_accuracy(y_train,grid_search.predict(x_train))\n",
    "test_sign_accuracy = sign_accuracy(y_test,grid_search.predict(x_test))\n",
    "print(\"Train dataset performance: \",train_sign_accuracy)\n",
    "print(\"Test dataset performance: \",test_sign_accuracy)"
   ]
  },
  {
   "cell_type": "code",
   "execution_count": 6,
   "id": "4cf777fe",
   "metadata": {},
   "outputs": [
    {
     "name": "stdout",
     "output_type": "stream",
     "text": [
      "Train Sign Accuracy (Top 10% most confident preds): 0.7125\n",
      "Test Sign Accuracy (Top 10% most confident preds): 0.5643564356435643\n"
     ]
    }
   ],
   "source": [
    "def sign_accuracy(y_true, y_pred):\n",
    "    return np.mean(np.sign(y_true) == np.sign(y_pred))\n",
    "\n",
    "# 1. Get numeric predictions (already continuous from LightGBM)\n",
    "train_preds = grid_search.predict(x_train)\n",
    "test_preds = grid_search.predict(x_test)\n",
    "\n",
    "# 2. Calculate 90th percentile threshold of abs(preds) on train set\n",
    "train_abs_preds = np.abs(train_preds)\n",
    "threshold = np.percentile(train_abs_preds, 90)\n",
    "\n",
    "# 3. Mask for predictions with abs value above threshold\n",
    "train_mask = train_abs_preds > threshold\n",
    "test_mask = np.abs(test_preds) > threshold\n",
    "\n",
    "# 4. Calculate sign accuracy for only the confident predictions\n",
    "train_sign_accuracy = sign_accuracy(y_train[train_mask], train_preds[train_mask])\n",
    "test_sign_accuracy = sign_accuracy(y_test[test_mask], test_preds[test_mask])\n",
    "\n",
    "print(\"Train Sign Accuracy (Top 10% most confident preds):\", train_sign_accuracy)\n",
    "print(\"Test Sign Accuracy (Top 10% most confident preds):\", test_sign_accuracy)\n"
   ]
  },
  {
   "cell_type": "code",
   "execution_count": 7,
   "id": "68b67376",
   "metadata": {},
   "outputs": [
    {
     "name": "stdout",
     "output_type": "stream",
     "text": [
      "Sign Accuracy: 56.33%\n",
      "P-value: 0.00008\n"
     ]
    },
    {
     "name": "stderr",
     "output_type": "stream",
     "text": [
      "C:\\Users\\volpe\\AppData\\Local\\Temp\\ipykernel_19184\\3645935156.py:8: DeprecationWarning: 'binom_test' is deprecated in favour of 'binomtest' from version 1.7.0 and will be removed in Scipy 1.12.0.\n",
      "  p_value = binom_test(n_correct, n_total, p=0.5, alternative='greater')\n"
     ]
    }
   ],
   "source": [
    "from scipy.stats import binom_test\n",
    "\n",
    "# Example inputs\n",
    "n_total = 900        # Total number of samples (adjust to your case)\n",
    "n_correct = int(test_sign_accuracy * n_total)  # Number of correct sign predictions (52% of total)\n",
    "\n",
    "# Perform one-sided binomial test (greater than 50%)\n",
    "p_value = binom_test(n_correct, n_total, p=0.5, alternative='greater')\n",
    "\n",
    "print(f\"Sign Accuracy: {n_correct / n_total:.2%}\")\n",
    "print(f\"P-value: {p_value:.5f}\")\n",
    "    "
   ]
  },
  {
   "cell_type": "code",
   "execution_count": 8,
   "id": "eac59aa5",
   "metadata": {},
   "outputs": [],
   "source": [
    "# params = {\n",
    "#     \"n_estimators\": 10,\n",
    "#     \"max_depth\": -1,\n",
    "#     \"min_child_samples\": 10,\n",
    "#     \"learning_rate\": 0.02,\n",
    "#     \"lambda_l2\": 1\n",
    "# }\n",
    "\n",
    "# # Model for 5th percentile (Lower bound)\n",
    "# model_5th = LGBMRegressor(\n",
    "#     verbose=-1,\n",
    "#     objective='quantile',\n",
    "#     alpha=0.05,\n",
    "#     **params\n",
    "# )\n",
    "\n",
    "# # Model for 95th percentile (Upper bound)\n",
    "# model_95th = LGBMRegressor(\n",
    "#     verbose=-1,\n",
    "#     objective='quantile',\n",
    "#     alpha=0.95,\n",
    "#     **params\n",
    "# )\n",
    "\n",
    "# # Fit both models\n",
    "# model_5th.fit(x_train, y_train)\n",
    "# model_95th.fit(x_train, y_train)\n",
    "\n",
    "# # Predict on test data (or any new data like x_test)\n",
    "# pred_5th = model_5th.predict(x_test)\n",
    "# pred_95th = model_95th.predict(x_test)\n",
    "\n",
    "# # Example: show first 5 predictions\n",
    "# print(\"5th percentile predictions:\", pred_5th[:5])\n",
    "# print(\"95th percentile predictions:\", pred_95th[:5])"
   ]
  }
 ],
 "metadata": {
  "kernelspec": {
   "display_name": "Python 3",
   "language": "python",
   "name": "python3"
  },
  "language_info": {
   "codemirror_mode": {
    "name": "ipython",
    "version": 3
   },
   "file_extension": ".py",
   "mimetype": "text/x-python",
   "name": "python",
   "nbconvert_exporter": "python",
   "pygments_lexer": "ipython3",
   "version": "3.11.6"
  }
 },
 "nbformat": 4,
 "nbformat_minor": 5
}
